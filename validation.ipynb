{
 "cells": [
  {
   "cell_type": "markdown",
   "metadata": {},
   "source": [
    "### Empirical validation of the paper: Simulation of Graph Algorithms with Looped Transformers [ICML2024] "
   ]
  },
  {
   "cell_type": "code",
   "execution_count": null,
   "metadata": {},
   "outputs": [],
   "source": [
    "# for compatibility with CLRS, we advise using Python 3.9 or later\n",
    "# install required packages (only need to run once)\n",
    "!pip install -e .\n",
    "\n",
    "import clrs\n",
    "from ltfs.utils import evaluate_clrs\n",
    "\n",
    "timeout = 1200 # 20 minutes"
   ]
  },
  {
   "cell_type": "markdown",
   "metadata": {},
   "source": [
    "### Dijkstra's Shortest Path Algorithm"
   ]
  },
  {
   "cell_type": "code",
   "execution_count": null,
   "metadata": {},
   "outputs": [],
   "source": [
    "from ltfs.dijkstra import Model\n",
    "from ltfs.dijkstra.input import build_input\n",
    "\n",
    "print(\"Dijkstra's algorithm\")\n",
    "print(\"\\nLoading data...\")\n",
    "train_set, _, _ = clrs.create_dataset(folder=\"./data/CLRS30\", algorithm=\"dijkstra\", split=\"train\", batch_size=1000)\n",
    "val_set, _, _ = clrs.create_dataset(folder=\"./data/CLRS30\", algorithm=\"dijkstra\", split=\"val\", batch_size=32)\n",
    "test_set, _, _ = clrs.create_dataset(folder=\"./data/CLRS30\", algorithm=\"dijkstra\", split=\"test\", batch_size=32)\n",
    "print(\"Loading data complete\")\n",
    "\n",
    "X, index = build_input(2, 1)\n",
    "model = Model(X.shape[1], 2, index, False)\n",
    "\n",
    "print(\"\\nTrain\")\n",
    "evaluate_clrs(model, train_set, build_input, timeout)\n",
    "\n",
    "print(\"\\nValidation\")\n",
    "evaluate_clrs(model, val_set, build_input, timeout)\n",
    "\n",
    "print(\"\\nTest\")\n",
    "evaluate_clrs(model, test_set, build_input, timeout);\n",
    "# Results : (Correct/Incorrect/Exception)"
   ]
  },
  {
   "cell_type": "markdown",
   "metadata": {},
   "source": [
    "### Breadth-First Search"
   ]
  },
  {
   "cell_type": "code",
   "execution_count": null,
   "metadata": {},
   "outputs": [],
   "source": [
    "from ltfs.bfs import Model\n",
    "from ltfs.bfs.input import build_input\n",
    "\n",
    "print(\"Breadth-First Search (BFS)\")\n",
    "print(\"\\nLoading data...\")\n",
    "train_set, _, _ = clrs.create_dataset(folder=\"./data/CLRS30\", algorithm=\"bfs\", split=\"train\", batch_size=1000)\n",
    "val_set, _, _ = clrs.create_dataset(folder=\"./data/CLRS30\", algorithm=\"bfs\", split=\"val\", batch_size=32)\n",
    "test_set, _, _ = clrs.create_dataset(folder=\"./data/CLRS30\", algorithm=\"bfs\", split=\"test\", batch_size=32)\n",
    "print(\"Loading data complete\")\n",
    "\n",
    "X, index = build_input(2, 1)\n",
    "model = Model(X.shape[1], 2, index, False)\n",
    "\n",
    "print(\"\\nTrain\")\n",
    "evaluate_clrs(model, train_set, build_input, timeout)\n",
    "\n",
    "print(\"\\nValidation\")\n",
    "evaluate_clrs(model, val_set, build_input, timeout)\n",
    "\n",
    "print(\"\\nTest\")\n",
    "evaluate_clrs(model, test_set, build_input, timeout);\n",
    "# Results : (Correct/Incorrect/Exception)"
   ]
  },
  {
   "cell_type": "markdown",
   "metadata": {},
   "source": [
    "### Depth-First Search (DFS)"
   ]
  },
  {
   "cell_type": "code",
   "execution_count": null,
   "metadata": {},
   "outputs": [],
   "source": [
    "from ltfs.dfs import Model\n",
    "from ltfs.dfs.input import build_input\n",
    "\n",
    "print(\"Depth-First Search (DFS)\")\n",
    "print(\"\\nLoading data...\")\n",
    "train_set, _, _ = clrs.create_dataset(folder=\"./data/CLRS30\", algorithm=\"dfs\", split=\"train\", batch_size=1000)\n",
    "val_set, _, _ = clrs.create_dataset(folder=\"./data/CLRS30\", algorithm=\"dfs\", split=\"val\", batch_size=32)\n",
    "test_set, _, _ = clrs.create_dataset(folder=\"./data/CLRS30\", algorithm=\"dfs\", split=\"test\", batch_size=32)\n",
    "print(\"Loading data complete\")\n",
    "\n",
    "X, index = build_input(2, 1)\n",
    "model = Model(X.shape[1], 2, index, False)\n",
    "\n",
    "print(\"\\nTrain\")\n",
    "evaluate_clrs(model, train_set, build_input, timeout)\n",
    "\n",
    "print(\"\\nValidation\")\n",
    "evaluate_clrs(model, val_set, build_input, timeout)\n",
    "\n",
    "print(\"\\nTest\")\n",
    "evaluate_clrs(model, test_set, build_input, timeout);\n",
    "# Results : (Correct/Incorrect/Exception)"
   ]
  },
  {
   "cell_type": "markdown",
   "metadata": {},
   "source": [
    "### Kosaraju's Strongly Connected Components Algorithm"
   ]
  },
  {
   "cell_type": "code",
   "execution_count": null,
   "metadata": {},
   "outputs": [],
   "source": [
    "from ltfs.scc import Model\n",
    "from ltfs.scc.input import build_input\n",
    "\n",
    "print(\"Kosaraju's algorithm (SCC)\")\n",
    "print(\"\\nLoading data...\")\n",
    "train_set, _, _ = clrs.create_dataset(folder=\"./data/CLRS30\", algorithm=\"strongly_connected_components\", split=\"train\", batch_size=1000)\n",
    "val_set, _, _ = clrs.create_dataset(folder=\"./data/CLRS30\", algorithm=\"strongly_connected_components\", split=\"val\", batch_size=32)\n",
    "test_set, _, _ = clrs.create_dataset(folder=\"./data/CLRS30\", algorithm=\"strongly_connected_components\", split=\"test\", batch_size=32)\n",
    "print(\"Loading data complete\")\n",
    "\n",
    "X, index = build_input(2, 1)\n",
    "model = Model(X.shape[1], 2, index, False)\n",
    "\n",
    "print(\"\\nTrain\")\n",
    "evaluate_clrs(model, train_set, build_input, timeout)\n",
    "\n",
    "print(\"\\nValidation\")\n",
    "evaluate_clrs(model, val_set, build_input, timeout)\n",
    "\n",
    "print(\"\\nTest\")\n",
    "evaluate_clrs(model, test_set, build_input, timeout);\n",
    "# Results : (Correct/Incorrect/Exception)"
   ]
  }
 ],
 "metadata": {
  "kernelspec": {
   "display_name": "icml",
   "language": "python",
   "name": "python3"
  },
  "language_info": {
   "codemirror_mode": {
    "name": "ipython",
    "version": 3
   },
   "file_extension": ".py",
   "mimetype": "text/x-python",
   "name": "python",
   "nbconvert_exporter": "python",
   "pygments_lexer": "ipython3",
   "version": "3.11.4"
  }
 },
 "nbformat": 4,
 "nbformat_minor": 2
}
